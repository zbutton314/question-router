{
  "nbformat": 4,
  "nbformat_minor": 0,
  "metadata": {
    "colab": {
      "name": "ExpertsMatch.ipynb",
      "provenance": [],
      "collapsed_sections": []
    },
    "kernelspec": {
      "name": "python3",
      "display_name": "Python 3"
    },
    "language_info": {
      "name": "python"
    }
  },
  "cells": [
    {
      "cell_type": "code",
      "execution_count": 4,
      "metadata": {
        "id": "dG8UvmWz0P9w",
        "colab": {
          "base_uri": "https://localhost:8080/"
        },
        "outputId": "7e0de71f-c0e7-4bcc-aa40-587cf8941384"
      },
      "outputs": [
        {
          "output_type": "stream",
          "name": "stdout",
          "text": [
            "[nltk_data] Downloading package stopwords to /root/nltk_data...\n",
            "[nltk_data]   Unzipping corpora/stopwords.zip.\n"
          ]
        }
      ],
      "source": [
        "import pandas as pd\n",
        "from google.colab import drive\n",
        "import numpy as np\n",
        "import seaborn as sns\n",
        "import re\n",
        "import string\n",
        "from string import punctuation\n",
        "import nltk\n",
        "from nltk.corpus import stopwords\n",
        "nltk.download('stopwords')\n",
        "\n",
        "import matplotlib.pyplot as plt\n",
        "from sklearn.model_selection import train_test_split\n",
        "from sklearn.feature_extraction.text import CountVectorizer\n",
        "from sklearn.feature_extraction.text import TfidfTransformer\n",
        "\n",
        "import tensorflow as tf\n",
        "from tensorflow.keras.models import Sequential\n",
        "from tensorflow.keras.layers import Dense, Activation, Dropout\n",
        "from tensorflow.keras.callbacks import EarlyStopping"
      ]
    },
    {
      "cell_type": "code",
      "source": [
        "drive.mount(\"/content/drive\")"
      ],
      "metadata": {
        "colab": {
          "base_uri": "https://localhost:8080/"
        },
        "id": "E5ww36NoAuEA",
        "outputId": "80886006-2a47-4ad0-bcd2-22c4de834ffc"
      },
      "execution_count": 5,
      "outputs": [
        {
          "output_type": "stream",
          "name": "stdout",
          "text": [
            "Mounted at /content/drive\n"
          ]
        }
      ]
    },
    {
      "cell_type": "code",
      "source": [
        "ListofExperts = []\n",
        "class Expert:\n",
        "  \n",
        "  tags = ['java', 'c++', 'c', 'c#', 'r', 'html', 'javascript', 'php', 'python', 'sql']\n",
        "  partialScore = 0.5\n",
        "  \n",
        "  def __init__(self, name, mT):\n",
        "    self.name = name\n",
        "    self.mainTag = mT\n",
        "    self.score = pd.DataFrame(np.zeros((1, 10)), columns = self.tags, dtype= float)\n",
        "    self.fullScore = 1.0\n",
        "    self.score[mT][0] = 1.0\n",
        "    self.selftags = [mT]\n",
        "    ListofExperts.append(self)\n",
        "  \n",
        "  def setOnlineStatus(status):\n",
        "    onlineStatus = status\n",
        "  \n",
        "  def setTags(self):\n",
        "    ct = 2.0\n",
        "    tag = input(f\"Please enter tag {int(ct)} for {self.name}, or hit enter to cancel: \")\n",
        "    while (tag != \"\"):\n",
        "      if tag in self.selftags:\n",
        "        tag = input(f\"Expert already assigned this tag, please enter tag {int(ct)} for {self.name} or hit enter to quit: \")\n",
        "        if tag == \"\":\n",
        "          break\n",
        "        else:\n",
        "          continue\n",
        "      ps = self.partialScore/(ct-1)\n",
        "      self.score[tag][0] = ps\n",
        "      self.selftags.append(tag)\n",
        "      self.fullScore += ps\n",
        "      ct += 1\n",
        "      tag = input(f\"Please enter tag {int(ct)} for {self.name}, or hit enter to cancel: \")\n",
        "  \n",
        "  def removetags(self):\n",
        "    tag = input(\"Please enter the tag to remove, or hit enter to cancel: \")\n",
        "    while (tag != \"\"):\n",
        "      if (tag in self.tags):\n",
        "        self.tags.remove(tag)\n",
        "        tag = input(\"Please enter the tag to remove, or hit enter to cancel: \")\n",
        "      else:\n",
        "        print(\"Did not find that tag to be associated with this expert\")\n",
        "        tag = input(\"Please enter the tag to remove, or hit enter to cancel: \")\n",
        "\n",
        "\n",
        "    \n",
        "\n"
      ],
      "metadata": {
        "id": "8nUcDagecj_4"
      },
      "execution_count": 9,
      "outputs": []
    },
    {
      "cell_type": "code",
      "source": [
        "ListofExperts = []\n",
        "Bob = Expert(\"Bob\", \"python\")\n",
        "Simone = Expert(\"Simone\", \"java\")\n",
        "Boris = Expert(\"Boris\", \"php\")\n",
        "Devin = Expert(\"Devin\", \"c\")\n",
        "Sanjay = Expert(\"Sanjay\", \"c++\")\n",
        "Casey = Expert(\"Casey\", \"c#\")\n",
        "Jeff = Expert(\"Jeff\", \"html\")\n",
        "Erica = Expert(\"Erica\", \"javascript\")\n",
        "Dmitri = Expert(\"Dmitri\", \"sql\")\n",
        "\n"
      ],
      "metadata": {
        "id": "v25zale_2Tm0"
      },
      "execution_count": 10,
      "outputs": []
    },
    {
      "cell_type": "code",
      "source": [
        "Bob.setTags()\n",
        "Simone.setTags()\n",
        "Casey.setTags()\n",
        "Dmitri.setTags()"
      ],
      "metadata": {
        "id": "By1LnTQk5DJx",
        "colab": {
          "base_uri": "https://localhost:8080/"
        },
        "outputId": "a3d87146-59fa-403e-d33a-fe3ccd249418"
      },
      "execution_count": 11,
      "outputs": [
        {
          "name": "stdout",
          "output_type": "stream",
          "text": [
            "Please enter tag 2 for Bob, or hit enter to cancel: python\n",
            "Expert already assigned this tag, please enter tag 2 for Bob or hit enter to quit: python\n",
            "Expert already assigned this tag, please enter tag 2 for Bob or hit enter to quit: \n",
            "Please enter tag 2 for Simone, or hit enter to cancel: java\n",
            "Expert already assigned this tag, please enter tag 2 for Simone or hit enter to quit: javascript\n",
            "Please enter tag 3 for Simone, or hit enter to cancel: \n",
            "Please enter tag 2 for Casey, or hit enter to cancel: c\n",
            "Please enter tag 3 for Casey, or hit enter to cancel: c#\n",
            "Expert already assigned this tag, please enter tag 3 for Casey or hit enter to quit: c++\n",
            "Please enter tag 4 for Casey, or hit enter to cancel: \n",
            "Please enter tag 2 for Dmitri, or hit enter to cancel: java\n",
            "Please enter tag 3 for Dmitri, or hit enter to cancel: \n"
          ]
        }
      ]
    },
    {
      "cell_type": "code",
      "source": [
        "for i in ListofExperts:\n",
        "  print(f\"{i.name}'s main specialty is {i.mainTag}, their full score is {i.fullScore :.2f}\")"
      ],
      "metadata": {
        "id": "h3wRhsrc5FQL",
        "colab": {
          "base_uri": "https://localhost:8080/"
        },
        "outputId": "ac70a608-6f36-4967-9869-e7c51a88e0cb"
      },
      "execution_count": 12,
      "outputs": [
        {
          "output_type": "stream",
          "name": "stdout",
          "text": [
            "Bob's main specialty is python, their full score is 1.00\n",
            "Simone's main specialty is java, their full score is 1.50\n",
            "Boris's main specialty is php, their full score is 1.00\n",
            "Devin's main specialty is c, their full score is 1.00\n",
            "Sanjay's main specialty is c++, their full score is 1.00\n",
            "Casey's main specialty is c#, their full score is 1.75\n",
            "Jeff's main specialty is html, their full score is 1.00\n",
            "Erica's main specialty is javascript, their full score is 1.00\n",
            "Dmitri's main specialty is sql, their full score is 1.50\n"
          ]
        }
      ]
    },
    {
      "cell_type": "code",
      "source": [
        "print(Bob.score)"
      ],
      "metadata": {
        "id": "Qylr7rK-5YaK",
        "colab": {
          "base_uri": "https://localhost:8080/"
        },
        "outputId": "e61f7701-9b33-447a-c1fd-23bdff34a11a"
      },
      "execution_count": 13,
      "outputs": [
        {
          "output_type": "stream",
          "name": "stdout",
          "text": [
            "   java  c++    c   c#    r  html  javascript  php  python  sql\n",
            "0   0.0  0.0  0.0  0.0  0.0   0.0         0.0  0.0     1.0  0.0\n"
          ]
        }
      ]
    },
    {
      "cell_type": "code",
      "source": [
        "print(Bob.selftags)"
      ],
      "metadata": {
        "id": "sbFKpa797abT",
        "colab": {
          "base_uri": "https://localhost:8080/"
        },
        "outputId": "52a11a3d-e0d8-4818-c611-0c5872d85da3"
      },
      "execution_count": 14,
      "outputs": [
        {
          "output_type": "stream",
          "name": "stdout",
          "text": [
            "['python']\n"
          ]
        }
      ]
    },
    {
      "cell_type": "code",
      "source": [
        "def assignExpert(question):\n",
        "  #qTag = question.Tag\n",
        "  qTag = question\n",
        "  ExpertList = []\n",
        "  maxScore = 0.0\n",
        "  sortedList = []\n",
        "  for x in ListofExperts:\n",
        "    if qTag in x.selftags:\n",
        "      xScore = x.score[qTag][0]\n",
        "      xFullScore = x.fullScore\n",
        "      ExpertList.append((x.name, xScore, xFullScore))\n",
        "  for i in ExpertList:\n",
        "    print(f\"{i[0]} has a {qTag} score of {i[1]} and a full score of {i[2]}\")\n",
        "    if i[1] > maxScore:\n",
        "      maxScore = i[1]\n",
        "  \"\"\"\n",
        "      ExpertList.insert(0, i)\n",
        "      ExpertList.remove(i)\n",
        "    elif i[1] == maxScore:\n",
        "      if i[2] >= ExpertList[ExpertList.index(maxScore)][2]:\n",
        "        ExpertList.insert(1, i)\n",
        "        ExpertList.remove(i)\n",
        "      elif i[2] <= ExpertList[ExpertList.index(maxScore)][2]:\n",
        "        ExpertList.insert(0, i)\n",
        "        ExpertList.remove(i)\n",
        "    else:\n",
        "      ExpertList.append(i)\"\"\"\n",
        "  \n",
        "  print(maxScore)\n",
        "\n",
        "\n",
        "      \n",
        "  \n",
        "  \"\"\"np.max(XScoreList)\n",
        "  if (Expert.score[qTag] == 1):\n",
        "    if (Expert.score[qTag] == Expert.fullscore)\n",
        "      assign Expert\n",
        "      else\n",
        "        get min(Expert.fullscore)\n",
        "        assign Expert\n",
        "    elif (Expert.score[qTag] <= partialscore)\n",
        "      get max(Expert.score[qTag])\n",
        "      assign Expert\"\"\"\n",
        "\n",
        "\n",
        "assignExpert(\"java\")\n"
      ],
      "metadata": {
        "id": "dNI-ahUA8Lb6",
        "colab": {
          "base_uri": "https://localhost:8080/"
        },
        "outputId": "7a0f5668-155e-481d-e669-a29152ca7fae"
      },
      "execution_count": 38,
      "outputs": [
        {
          "output_type": "stream",
          "name": "stdout",
          "text": [
            "Simone has a java score of 1.0 and a full score of 1.5\n",
            "Dmitri has a java score of 0.5 and a full score of 1.5\n",
            "1.0\n"
          ]
        }
      ]
    },
    {
      "cell_type": "code",
      "source": [
        ""
      ],
      "metadata": {
        "id": "80jheIZdq3G9"
      },
      "execution_count": null,
      "outputs": []
    }
  ]
}