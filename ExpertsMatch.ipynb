{
  "nbformat": 4,
  "nbformat_minor": 0,
  "metadata": {
    "colab": {
      "name": "ExpertsMatch.ipynb",
      "provenance": [],
      "collapsed_sections": []
    },
    "kernelspec": {
      "name": "python3",
      "display_name": "Python 3"
    },
    "language_info": {
      "name": "python"
    }
  },
  "cells": [
    {
      "cell_type": "code",
      "execution_count": 46,
      "metadata": {
        "id": "dG8UvmWz0P9w"
      },
      "outputs": [],
      "source": [
        "class Expert:\n",
        "  tags = []\n",
        "  def __init__(self, name, mainTag):\n",
        "    self.name = name\n",
        "    self.mainTag = mainTag\n",
        "    self.tags.append(mainTag)\n",
        "    self.onlineStatus = False\n",
        "  def setOnlineStatus(status):\n",
        "    onlineStatus = status\n",
        "  def setTags(self):\n",
        "    tag = input(\"Please enter the first tag, or hit enter to cancel: \")\n",
        "    while (tag != \"\"):\n",
        "      self.tags.append(tag)\n",
        "      tag = input(\"Please enter the next tag, or hit enter to quit: \")\n",
        "  def removetags(self):\n",
        "    tag = input(\"Please enter the tag to remove, or hit enter to cancel: \")\n",
        "    while (tag != \"\"):\n",
        "      if (tag in self.tags):\n",
        "        self.tags.remove(tag)\n",
        "        tag = input(\"Please enter the tag to remove, or hit enter to cancel: \")\n",
        "      else:\n",
        "        print(\"Did not find that tag to be associated with this expert\")\n",
        "        tag = input(\"Please enter the tag to remove, or hit enter to cancel: \")\n",
        "\n",
        "    \n",
        "\n"
      ]
    },
    {
      "cell_type": "code",
      "source": [
        "Bob = Expert(\"Bob\", \"Python\")\n"
      ],
      "metadata": {
        "id": "v25zale_2Tm0"
      },
      "execution_count": 47,
      "outputs": []
    },
    {
      "cell_type": "code",
      "source": [
        "print(Bob.tags)"
      ],
      "metadata": {
        "colab": {
          "base_uri": "https://localhost:8080/"
        },
        "id": "K1AT75a95A_T",
        "outputId": "1f6541d2-a3e0-4aa8-8fe3-bc2049d0eb67"
      },
      "execution_count": 48,
      "outputs": [
        {
          "output_type": "stream",
          "name": "stdout",
          "text": [
            "['Python']\n"
          ]
        }
      ]
    },
    {
      "cell_type": "code",
      "source": [
        "Bob.setTags()"
      ],
      "metadata": {
        "colab": {
          "base_uri": "https://localhost:8080/"
        },
        "id": "By1LnTQk5DJx",
        "outputId": "d4886f5c-8660-4db6-faa5-a253c4496cd0"
      },
      "execution_count": 49,
      "outputs": [
        {
          "name": "stdout",
          "output_type": "stream",
          "text": [
            "Please enter the first tag, or hit enter to cancel: Java\n",
            "Please enter the next tag, or hit enter to quit: \n"
          ]
        }
      ]
    },
    {
      "cell_type": "code",
      "source": [
        "print(Bob.tags)"
      ],
      "metadata": {
        "colab": {
          "base_uri": "https://localhost:8080/"
        },
        "id": "h3wRhsrc5FQL",
        "outputId": "bb8a1ff7-1c3d-4def-f013-1fe121365d45"
      },
      "execution_count": 50,
      "outputs": [
        {
          "output_type": "stream",
          "name": "stdout",
          "text": [
            "['Python', 'Java']\n"
          ]
        }
      ]
    },
    {
      "cell_type": "code",
      "source": [
        "Bob.removetags()"
      ],
      "metadata": {
        "colab": {
          "base_uri": "https://localhost:8080/"
        },
        "id": "Qylr7rK-5YaK",
        "outputId": "e29c3f7b-1d79-4107-db4a-324773d37f13"
      },
      "execution_count": 51,
      "outputs": [
        {
          "name": "stdout",
          "output_type": "stream",
          "text": [
            "Please enter the tag to remove, or hit enter to cancel: Jaba\n",
            "Did not find that tag to be associated with this expert\n",
            "Please enter the tag to remove, or hit enter to cancel: Java\n",
            "Please enter the tag to remove, or hit enter to cancel: \n"
          ]
        }
      ]
    },
    {
      "cell_type": "code",
      "source": [
        "print(Bob.tags)"
      ],
      "metadata": {
        "colab": {
          "base_uri": "https://localhost:8080/"
        },
        "id": "sbFKpa797abT",
        "outputId": "338b1cae-b2c2-45c2-b649-46d433746e72"
      },
      "execution_count": 52,
      "outputs": [
        {
          "output_type": "stream",
          "name": "stdout",
          "text": [
            "['Python']\n"
          ]
        }
      ]
    },
    {
      "cell_type": "code",
      "source": [
        ""
      ],
      "metadata": {
        "id": "dNI-ahUA8Lb6"
      },
      "execution_count": null,
      "outputs": []
    }
  ]
}