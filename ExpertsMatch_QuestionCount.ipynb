{
  "nbformat": 4,
  "nbformat_minor": 0,
  "metadata": {
    "colab": {
      "name": "ExpertsMatch (1).ipynb",
      "provenance": [],
      "collapsed_sections": []
    },
    "kernelspec": {
      "name": "python3",
      "display_name": "Python 3"
    },
    "language_info": {
      "name": "python"
    }
  },
  "cells": [
    {
      "cell_type": "code",
      "execution_count": 13,
      "metadata": {
        "id": "dG8UvmWz0P9w",
        "colab": {
          "base_uri": "https://localhost:8080/"
        },
        "outputId": "77e2b473-d005-46e0-8a1c-2da5bc9a6104"
      },
      "outputs": [
        {
          "output_type": "stream",
          "name": "stdout",
          "text": [
            "[nltk_data] Downloading package stopwords to /root/nltk_data...\n",
            "[nltk_data]   Package stopwords is already up-to-date!\n"
          ]
        },
        {
          "output_type": "execute_result",
          "data": {
            "text/plain": [
              "True"
            ]
          },
          "metadata": {},
          "execution_count": 13
        }
      ],
      "source": [
        "import pandas as pd\n",
        "from google.colab import drive\n",
        "import numpy as np\n",
        "import seaborn as sns\n",
        "import re\n",
        "import string\n",
        "from string import punctuation\n",
        "import nltk\n",
        "from nltk.corpus import stopwords\n",
        "nltk.download('stopwords')\n"
      ]
    },
    {
      "cell_type": "code",
      "source": [
        "drive.mount(\"/content/drive\")"
      ],
      "metadata": {
        "colab": {
          "base_uri": "https://localhost:8080/"
        },
        "id": "E5ww36NoAuEA",
        "outputId": "3f767d6d-0ef9-4aa9-8188-c6ccb83c550b"
      },
      "execution_count": 14,
      "outputs": [
        {
          "output_type": "stream",
          "name": "stdout",
          "text": [
            "Drive already mounted at /content/drive; to attempt to forcibly remount, call drive.mount(\"/content/drive\", force_remount=True).\n"
          ]
        }
      ]
    },
    {
      "cell_type": "code",
      "source": [
        "ListofExperts = []\n",
        "class Expert:\n",
        "  \n",
        "  tags = ['java', 'c++', 'c', 'c#', 'r', 'html', 'javascript', 'php', 'python', 'sql']\n",
        "  partialScore = 0.5\n",
        "  \n",
        "  def __init__(self, name, mT):\n",
        "    self.name = name\n",
        "    self.mainTag = mT\n",
        "    self.score = pd.DataFrame(np.zeros((1, 10)), columns = self.tags, dtype= float)\n",
        "    self.fullScore = 1.0\n",
        "    self.score[mT][0] = 1.0\n",
        "    self.selftags = [mT]\n",
        "    self.questions = 0\n",
        "    ListofExperts.append(self)\n",
        "  \n",
        "  def setOnlineStatus(self, status):\n",
        "    self.onlineStatus = status\n",
        "  \n",
        "  def setTags(self):\n",
        "    ct = 2.0\n",
        "    tag = input(f\"Please enter tag {int(ct)} for {self.name}, or hit enter to cancel: \")\n",
        "    while (tag != \"\"):\n",
        "      if tag in self.selftags:\n",
        "        tag = input(f\"Expert already assigned this tag, please enter tag {int(ct)} for {self.name} or hit enter to quit: \")\n",
        "        if tag == \"\":\n",
        "          break\n",
        "        else:\n",
        "          continue\n",
        "      ps = self.partialScore/(ct-1)\n",
        "      self.score[tag][0] = ps\n",
        "      self.selftags.append(tag)\n",
        "      self.fullScore += ps\n",
        "      ct += 1\n",
        "      tag = input(f\"Please enter tag {int(ct)} for {self.name}, or hit enter to cancel: \")\n",
        "  \n",
        "  \n",
        "  def removetags(self):\n",
        "    tag = input(\"Please enter the tag to remove, or hit enter to cancel: \")\n",
        "    while (tag != \"\"):\n",
        "      if (tag in self.tags):\n",
        "        self.tags.remove(tag)\n",
        "        tag = input(\"Please enter the tag to remove, or hit enter to cancel: \")\n",
        "      else:\n",
        "        print(\"Did not find that tag to be associated with this expert\")\n",
        "        tag = input(\"Please enter the tag to remove, or hit enter to cancel: \")\n"
      ],
      "metadata": {
        "id": "8nUcDagecj_4"
      },
      "execution_count": 15,
      "outputs": []
    },
    {
      "cell_type": "code",
      "source": [
        "ListofExperts = []\n",
        "Bob = Expert(\"Bob\", \"java\")\n",
        "Simone = Expert(\"Simone\", \"java\")\n",
        "Boris = Expert(\"Boris\", \"php\")\n",
        "Devin = Expert(\"Devin\", \"c\")\n",
        "Sanjay = Expert(\"Sanjay\", \"c++\")\n",
        "Casey = Expert(\"Casey\", \"c#\")\n",
        "Jeff = Expert(\"Jeff\", \"html\")\n",
        "Erica = Expert(\"Erica\", \"javascript\")\n",
        "Dmitri = Expert(\"Dmitri\", \"sql\")"
      ],
      "metadata": {
        "id": "v25zale_2Tm0"
      },
      "execution_count": 16,
      "outputs": []
    },
    {
      "cell_type": "code",
      "source": [
        "Bob.setTags()\n",
        "Casey.setTags()\n",
        "Dmitri.setTags()"
      ],
      "metadata": {
        "id": "By1LnTQk5DJx",
        "colab": {
          "base_uri": "https://localhost:8080/"
        },
        "outputId": "c62eba37-149b-442d-d502-5ef9f196d6ea"
      },
      "execution_count": 17,
      "outputs": [
        {
          "name": "stdout",
          "output_type": "stream",
          "text": [
            "Please enter tag 2 for Bob, or hit enter to cancel: python\n",
            "Please enter tag 3 for Bob, or hit enter to cancel: \n",
            "Please enter tag 2 for Casey, or hit enter to cancel: java\n",
            "Please enter tag 3 for Casey, or hit enter to cancel: \n",
            "Please enter tag 2 for Dmitri, or hit enter to cancel: java\n",
            "Please enter tag 3 for Dmitri, or hit enter to cancel: javascript\n",
            "Please enter tag 4 for Dmitri, or hit enter to cancel: \n"
          ]
        }
      ]
    },
    {
      "cell_type": "code",
      "source": [
        "print(Bob.score)"
      ],
      "metadata": {
        "id": "Qylr7rK-5YaK",
        "colab": {
          "base_uri": "https://localhost:8080/"
        },
        "outputId": "f8a694c4-dcc9-40f6-a29f-b94b5af0c207"
      },
      "execution_count": 18,
      "outputs": [
        {
          "output_type": "stream",
          "name": "stdout",
          "text": [
            "   java  c++    c   c#    r  html  javascript  php  python  sql\n",
            "0   1.0  0.0  0.0  0.0  0.0   0.0         0.0  0.0     0.5  0.0\n"
          ]
        }
      ]
    },
    {
      "cell_type": "code",
      "source": [
        "print(Bob.selftags)"
      ],
      "metadata": {
        "id": "sbFKpa797abT",
        "colab": {
          "base_uri": "https://localhost:8080/"
        },
        "outputId": "f2d461a9-f989-4b62-cbda-eda4cfe260ed"
      },
      "execution_count": 19,
      "outputs": [
        {
          "output_type": "stream",
          "name": "stdout",
          "text": [
            "['java', 'python']\n"
          ]
        }
      ]
    },
    {
      "cell_type": "code",
      "source": [
        "df = pd.DataFrame(columns = ['Name', 'Tag Score', 'Questions', 'Full Score'])\n",
        "def assignExpert(question):\n",
        "  global df\n",
        "  qTag = question\n",
        "  for x in ListofExperts:\n",
        "    if qTag in x.selftags:\n",
        "      xScore = x.score[qTag][0]\n",
        "      xScoreList = x.score\n",
        "      xFullScore = x.fullScore\n",
        "      df = df.append({'Name' : x.name, 'Tag Score' : xScore, 'Questions' : x.questions, 'Full Score' : xFullScore}, ignore_index = True)\n",
        "    else:\n",
        "      if x.questions == 0:\n",
        "        df\n",
        "  df = df.sort_values(['Tag Score', 'Questions', 'Full Score'], ascending = [False, True, True])  \n",
        "  df['Questions'].iloc[0] += 1\n",
        "  print(f\"Question routed to {df['Name'].iloc[0]}\") \n",
        "  print(df)\n",
        "\n",
        "assignExpert(\"java\")\n"
      ],
      "metadata": {
        "id": "dNI-ahUA8Lb6",
        "colab": {
          "base_uri": "https://localhost:8080/"
        },
        "outputId": "f22f04c8-5dd2-47d4-d618-f31dc5a0f3a7"
      },
      "execution_count": 27,
      "outputs": [
        {
          "output_type": "stream",
          "name": "stdout",
          "text": [
            "Question routed to Simone\n",
            "     Name  Tag Score Questions  Full Score\n",
            "1  Simone        1.0         1        1.00\n",
            "0     Bob        1.0         0        1.50\n",
            "2   Casey        0.5         0        1.50\n",
            "3  Dmitri        0.5         0        1.75\n"
          ]
        },
        {
          "output_type": "stream",
          "name": "stderr",
          "text": [
            "/usr/local/lib/python3.7/dist-packages/pandas/core/indexing.py:1732: SettingWithCopyWarning: \n",
            "A value is trying to be set on a copy of a slice from a DataFrame\n",
            "\n",
            "See the caveats in the documentation: https://pandas.pydata.org/pandas-docs/stable/user_guide/indexing.html#returning-a-view-versus-a-copy\n",
            "  self._setitem_single_block(indexer, value, name)\n"
          ]
        }
      ]
    },
    {
      "cell_type": "code",
      "source": [
        "assignExpert('python')"
      ],
      "metadata": {
        "id": "80jheIZdq3G9",
        "colab": {
          "base_uri": "https://localhost:8080/"
        },
        "outputId": "287816ca-df40-4b2d-d210-3a9d4be43759"
      },
      "execution_count": 28,
      "outputs": [
        {
          "output_type": "stream",
          "name": "stdout",
          "text": [
            "Question routed to Bob\n",
            "     Name  Tag Score Questions  Full Score\n",
            "1     Bob        1.0         1        1.50\n",
            "0  Simone        1.0         1        1.00\n",
            "2   Casey        0.5         0        1.50\n",
            "4     Bob        0.5         0        1.50\n",
            "3  Dmitri        0.5         0        1.75\n"
          ]
        },
        {
          "output_type": "stream",
          "name": "stderr",
          "text": [
            "/usr/local/lib/python3.7/dist-packages/pandas/core/indexing.py:1732: SettingWithCopyWarning: \n",
            "A value is trying to be set on a copy of a slice from a DataFrame\n",
            "\n",
            "See the caveats in the documentation: https://pandas.pydata.org/pandas-docs/stable/user_guide/indexing.html#returning-a-view-versus-a-copy\n",
            "  self._setitem_single_block(indexer, value, name)\n"
          ]
        }
      ]
    },
    {
      "cell_type": "code",
      "source": [
        "assignExpert('php')"
      ],
      "metadata": {
        "colab": {
          "base_uri": "https://localhost:8080/"
        },
        "id": "CL391SpdVojJ",
        "outputId": "81d28763-5a86-476a-aac3-7ec5fac46cf0"
      },
      "execution_count": 29,
      "outputs": [
        {
          "output_type": "stream",
          "name": "stdout",
          "text": [
            "Question routed to Boris\n",
            "     Name  Tag Score Questions  Full Score\n",
            "5   Boris        1.0         1        1.00\n",
            "1  Simone        1.0         1        1.00\n",
            "0     Bob        1.0         1        1.50\n",
            "2   Casey        0.5         0        1.50\n",
            "3     Bob        0.5         0        1.50\n",
            "4  Dmitri        0.5         0        1.75\n"
          ]
        },
        {
          "output_type": "stream",
          "name": "stderr",
          "text": [
            "/usr/local/lib/python3.7/dist-packages/pandas/core/indexing.py:1732: SettingWithCopyWarning: \n",
            "A value is trying to be set on a copy of a slice from a DataFrame\n",
            "\n",
            "See the caveats in the documentation: https://pandas.pydata.org/pandas-docs/stable/user_guide/indexing.html#returning-a-view-versus-a-copy\n",
            "  self._setitem_single_block(indexer, value, name)\n"
          ]
        }
      ]
    },
    {
      "cell_type": "code",
      "source": [
        ""
      ],
      "metadata": {
        "id": "1DRmQxcmVuK5"
      },
      "execution_count": null,
      "outputs": []
    }
  ]
}