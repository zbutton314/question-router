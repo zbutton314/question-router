{
  "nbformat": 4,
  "nbformat_minor": 0,
  "metadata": {
    "colab": {
      "name": "ExpertsMatch.ipynb",
      "provenance": [],
      "collapsed_sections": []
    },
    "kernelspec": {
      "name": "python3",
      "display_name": "Python 3"
    },
    "language_info": {
      "name": "python"
    }
  },
  "cells": [
    {
      "cell_type": "code",
      "execution_count": 50,
      "metadata": {
        "id": "dG8UvmWz0P9w",
        "colab": {
          "base_uri": "https://localhost:8080/"
        },
        "outputId": "0caa80d5-38f1-407b-cb76-3b87fe8e0b27"
      },
      "outputs": [
        {
          "output_type": "stream",
          "name": "stdout",
          "text": [
            "[nltk_data] Downloading package stopwords to /root/nltk_data...\n",
            "[nltk_data]   Package stopwords is already up-to-date!\n"
          ]
        },
        {
          "output_type": "execute_result",
          "data": {
            "text/plain": [
              "True"
            ]
          },
          "metadata": {},
          "execution_count": 50
        }
      ],
      "source": [
        "import pandas as pd\n",
        "from google.colab import drive\n",
        "import numpy as np\n",
        "import seaborn as sns\n",
        "import re\n",
        "import string\n",
        "from string import punctuation\n",
        "import nltk\n",
        "from nltk.corpus import stopwords\n",
        "nltk.download('stopwords')\n"
      ]
    },
    {
      "cell_type": "code",
      "source": [
        "!sudo apt-get update\n",
        "!apt-get install openjdk-8-jdk-headless -qq > /dev/null"
      ],
      "metadata": {
        "colab": {
          "base_uri": "https://localhost:8080/"
        },
        "id": "-d8c1t4WCMOf",
        "outputId": "83a0b82c-db8f-4ec0-fac6-62f9722822b8"
      },
      "execution_count": 51,
      "outputs": [
        {
          "output_type": "stream",
          "name": "stdout",
          "text": [
            "\r0% [Working]\r            \rHit:1 https://developer.download.nvidia.com/compute/cuda/repos/ubuntu1804/x86_64  InRelease\n",
            "\r0% [Connecting to archive.ubuntu.com (91.189.91.39)] [Connecting to security.ub\r                                                                               \rGet:2 https://cloud.r-project.org/bin/linux/ubuntu bionic-cran40/ InRelease [3,626 B]\n",
            "\r                                                                               \rIgn:3 https://developer.download.nvidia.com/compute/machine-learning/repos/ubuntu1804/x86_64  InRelease\n",
            "Hit:4 https://developer.download.nvidia.com/compute/machine-learning/repos/ubuntu1804/x86_64  Release\n",
            "Hit:5 http://archive.ubuntu.com/ubuntu bionic InRelease\n",
            "Get:6 http://archive.ubuntu.com/ubuntu bionic-updates InRelease [88.7 kB]\n",
            "Get:7 http://ppa.launchpad.net/c2d4u.team/c2d4u4.0+/ubuntu bionic InRelease [15.9 kB]\n",
            "Get:8 http://security.ubuntu.com/ubuntu bionic-security InRelease [88.7 kB]\n",
            "Get:10 http://archive.ubuntu.com/ubuntu bionic-backports InRelease [74.6 kB]\n",
            "Hit:11 http://ppa.launchpad.net/cran/libgit2/ubuntu bionic InRelease\n",
            "Get:12 http://archive.ubuntu.com/ubuntu bionic-updates/main amd64 Packages [3,167 kB]\n",
            "Hit:13 http://ppa.launchpad.net/deadsnakes/ppa/ubuntu bionic InRelease\n",
            "Hit:14 http://ppa.launchpad.net/graphics-drivers/ppa/ubuntu bionic InRelease\n",
            "Get:15 http://ppa.launchpad.net/c2d4u.team/c2d4u4.0+/ubuntu bionic/main Sources [1,950 kB]\n",
            "Get:16 http://ppa.launchpad.net/c2d4u.team/c2d4u4.0+/ubuntu bionic/main amd64 Packages [999 kB]\n",
            "Fetched 6,388 kB in 4s (1,735 kB/s)\n",
            "Reading package lists... Done\n"
          ]
        }
      ]
    },
    {
      "cell_type": "code",
      "source": [
        "!wget -q https://downloads.apache.org/spark/spark-3.0.3/spark-3.0.3-bin-hadoop3.2.tgz"
      ],
      "metadata": {
        "id": "n2WlhByaB1ev"
      },
      "execution_count": 52,
      "outputs": []
    },
    {
      "cell_type": "code",
      "source": [
        "!tar xf spark-3.0.3-bin-hadoop3.2.tgz\n",
        "!pip install -q findspark\n",
        "!pip install pyspark==3.0.2"
      ],
      "metadata": {
        "colab": {
          "base_uri": "https://localhost:8080/"
        },
        "id": "2YUk8uVxB2Ff",
        "outputId": "35b4c00f-a7d9-464f-84b5-372bffbf8ae0"
      },
      "execution_count": 53,
      "outputs": [
        {
          "output_type": "stream",
          "name": "stdout",
          "text": [
            "Collecting pyspark==3.0.2\n",
            "  Downloading pyspark-3.0.2.tar.gz (204.8 MB)\n",
            "\u001b[K     |████████████████████████████████| 204.8 MB 57 kB/s \n",
            "\u001b[?25hCollecting py4j==0.10.9\n",
            "  Downloading py4j-0.10.9-py2.py3-none-any.whl (198 kB)\n",
            "\u001b[K     |████████████████████████████████| 198 kB 25.5 MB/s \n",
            "\u001b[?25hBuilding wheels for collected packages: pyspark\n",
            "  Building wheel for pyspark (setup.py) ... \u001b[?25l\u001b[?25hdone\n",
            "  Created wheel for pyspark: filename=pyspark-3.0.2-py2.py3-none-any.whl size=205186690 sha256=09ca63cbaf40709c1a07148d8e7c050628f4d7834ce079975b98eb3e4f64e3c2\n",
            "  Stored in directory: /root/.cache/pip/wheels/9a/39/f6/970565f38054a830e9a8593f388b36e14d75dba6c6fdafc1ec\n",
            "Successfully built pyspark\n",
            "Installing collected packages: py4j, pyspark\n",
            "Successfully installed py4j-0.10.9 pyspark-3.0.2\n"
          ]
        }
      ]
    },
    {
      "cell_type": "code",
      "source": [
        "import os\n",
        "os.environ[\"JAVA_HOME\"] = \"/usr/lib/jvm/java-8-openjdk-amd64\"\n",
        "os.environ[\"SPARK_HOME\"] =  \"/content/spark-3.0.3-bin-hadoop3.2\""
      ],
      "metadata": {
        "id": "RFl-UMxTB75d"
      },
      "execution_count": 54,
      "outputs": []
    },
    {
      "cell_type": "code",
      "source": [
        "import findspark\n",
        "findspark.init()"
      ],
      "metadata": {
        "id": "8h0ORMPTB-3y"
      },
      "execution_count": 55,
      "outputs": []
    },
    {
      "cell_type": "code",
      "source": [
        "from pyspark.sql import SparkSession\n",
        "\n",
        "spark = SparkSession.builder\\\n",
        "        .master(\"local\")\\\n",
        "        .appName(\"Colab\")\\\n",
        "        .config('spark.ui.port', '4050')\\\n",
        "        .getOrCreate()"
      ],
      "metadata": {
        "id": "j4Z52iQQCEIl"
      },
      "execution_count": 56,
      "outputs": []
    },
    {
      "cell_type": "code",
      "source": [
        "drive.mount(\"/content/drive\")"
      ],
      "metadata": {
        "colab": {
          "base_uri": "https://localhost:8080/"
        },
        "id": "E5ww36NoAuEA",
        "outputId": "e5e90018-8dbb-4e51-c494-c42421c549a0"
      },
      "execution_count": 57,
      "outputs": [
        {
          "output_type": "stream",
          "name": "stdout",
          "text": [
            "Drive already mounted at /content/drive; to attempt to forcibly remount, call drive.mount(\"/content/drive\", force_remount=True).\n"
          ]
        }
      ]
    },
    {
      "cell_type": "code",
      "source": [
        "ListofExperts = []\n",
        "class Expert:\n",
        "  \n",
        "  tags = ['java', 'c++', 'c', 'c#', 'r', 'html', 'javascript', 'php', 'python', 'sql']\n",
        "  partialScore = 0.5\n",
        "  \n",
        "  def __init__(self, name, mT):\n",
        "    self.name = name\n",
        "    self.mainTag = mT\n",
        "    self.score = pd.DataFrame(np.zeros((1, 10)), columns = self.tags, dtype= float)\n",
        "    self.fullScore = 1.0\n",
        "    self.score[mT][0] = 1.0\n",
        "    self.selftags = [mT]\n",
        "    ListofExperts.append(self)\n",
        "  \n",
        "  def setOnlineStatus(status):\n",
        "    onlineStatus = status\n",
        "  \n",
        "  def setTags(self):\n",
        "    ct = 2.0\n",
        "    tag = input(f\"Please enter tag {int(ct)} for {self.name}, or hit enter to cancel: \")\n",
        "    while (tag != \"\"):\n",
        "      if tag in self.selftags:\n",
        "        tag = input(f\"Expert already assigned this tag, please enter tag {int(ct)} for {self.name} or hit enter to quit: \")\n",
        "        if tag == \"\":\n",
        "          break\n",
        "        else:\n",
        "          continue\n",
        "      ps = self.partialScore/(ct-1)\n",
        "      self.score[tag][0] = ps\n",
        "      self.selftags.append(tag)\n",
        "      self.fullScore += ps\n",
        "      ct += 1\n",
        "      tag = input(f\"Please enter tag {int(ct)} for {self.name}, or hit enter to cancel: \")\n",
        "  \n",
        "  def removetags(self):\n",
        "    tag = input(\"Please enter the tag to remove, or hit enter to cancel: \")\n",
        "    while (tag != \"\"):\n",
        "      if (tag in self.tags):\n",
        "        self.tags.remove(tag)\n",
        "        tag = input(\"Please enter the tag to remove, or hit enter to cancel: \")\n",
        "      else:\n",
        "        print(\"Did not find that tag to be associated with this expert\")\n",
        "        tag = input(\"Please enter the tag to remove, or hit enter to cancel: \")\n",
        "\n",
        "\n",
        "    \n",
        "\n"
      ],
      "metadata": {
        "id": "8nUcDagecj_4"
      },
      "execution_count": 58,
      "outputs": []
    },
    {
      "cell_type": "code",
      "source": [
        "ListofExperts = []\n",
        "Bob = Expert(\"Bob\", \"java\")\n",
        "Simone = Expert(\"Simone\", \"java\")\n",
        "Boris = Expert(\"Boris\", \"php\")\n",
        "Devin = Expert(\"Devin\", \"c\")\n",
        "Sanjay = Expert(\"Sanjay\", \"c++\")\n",
        "Casey = Expert(\"Casey\", \"c#\")\n",
        "Jeff = Expert(\"Jeff\", \"html\")\n",
        "Erica = Expert(\"Erica\", \"javascript\")\n",
        "Dmitri = Expert(\"Dmitri\", \"sql\")\n",
        "\n"
      ],
      "metadata": {
        "id": "v25zale_2Tm0"
      },
      "execution_count": 59,
      "outputs": []
    },
    {
      "cell_type": "code",
      "source": [
        "Bob.setTags()\n",
        "Casey.setTags()\n",
        "Dmitri.setTags()"
      ],
      "metadata": {
        "id": "By1LnTQk5DJx",
        "colab": {
          "base_uri": "https://localhost:8080/"
        },
        "outputId": "f4b75825-c2b7-4b9f-f3d8-d54ede90dc0d"
      },
      "execution_count": 60,
      "outputs": [
        {
          "name": "stdout",
          "output_type": "stream",
          "text": [
            "Please enter tag 2 for Bob, or hit enter to cancel: python\n",
            "Please enter tag 3 for Bob, or hit enter to cancel: \n",
            "Please enter tag 2 for Simone, or hit enter to cancel: \n",
            "Please enter tag 2 for Casey, or hit enter to cancel: java\n",
            "Please enter tag 3 for Casey, or hit enter to cancel: \n",
            "Please enter tag 2 for Dmitri, or hit enter to cancel: java\n",
            "Please enter tag 3 for Dmitri, or hit enter to cancel: php\n",
            "Please enter tag 4 for Dmitri, or hit enter to cancel: \n"
          ]
        }
      ]
    },
    {
      "cell_type": "code",
      "source": [
        "print(ListofExperts)"
      ],
      "metadata": {
        "id": "h3wRhsrc5FQL",
        "colab": {
          "base_uri": "https://localhost:8080/"
        },
        "outputId": "5d8921d0-6ec2-4d94-846f-c6c0f0ab4dcf"
      },
      "execution_count": 67,
      "outputs": [
        {
          "output_type": "stream",
          "name": "stdout",
          "text": [
            "[<__main__.Expert object at 0x7f4cdae5d850>, <__main__.Expert object at 0x7f4cdae5dfd0>, <__main__.Expert object at 0x7f4cdae56090>, <__main__.Expert object at 0x7f4cdae56450>, <__main__.Expert object at 0x7f4cdae56850>, <__main__.Expert object at 0x7f4cdae56c50>, <__main__.Expert object at 0x7f4cdae5b0d0>, <__main__.Expert object at 0x7f4cdae5b4d0>, <__main__.Expert object at 0x7f4cdae5b8d0>]\n"
          ]
        }
      ]
    },
    {
      "cell_type": "code",
      "source": [
        "print(Bob.score)"
      ],
      "metadata": {
        "id": "Qylr7rK-5YaK",
        "colab": {
          "base_uri": "https://localhost:8080/"
        },
        "outputId": "65ab99b1-6ad7-45ed-d3f2-170b0b0ed92b"
      },
      "execution_count": 43,
      "outputs": [
        {
          "output_type": "stream",
          "name": "stdout",
          "text": [
            "   java  c++    c   c#    r  html  javascript  php  python  sql\n",
            "0   1.0  0.0  0.0  0.0  0.0   0.0         0.0  0.0     0.5  0.0\n"
          ]
        }
      ]
    },
    {
      "cell_type": "code",
      "source": [
        "print(Bob.selftags)"
      ],
      "metadata": {
        "id": "sbFKpa797abT",
        "colab": {
          "base_uri": "https://localhost:8080/"
        },
        "outputId": "e9bea92f-bfbe-4d2d-81ae-52110a2ff0c0"
      },
      "execution_count": 44,
      "outputs": [
        {
          "output_type": "stream",
          "name": "stdout",
          "text": [
            "['java', 'python']\n"
          ]
        }
      ]
    },
    {
      "cell_type": "code",
      "source": [
        "def assignExpert(question):\n",
        "  #qTag = question.Tag\n",
        "  qTag = question\n",
        "  ExpertList = []\n",
        "  Expert_order = []\n",
        "  maxTagScore = 0.0\n",
        "  sortedList = []\n",
        "  for x in ListofExperts:\n",
        "    if qTag in x.selftags:\n",
        "      xScore = x.score[qTag][0]\n",
        "      xFullScore = x.fullScore\n",
        "      ExpertList.append((x.name, xScore, xFullScore))\n",
        "  df = pd.DataFrame(ExpertList, columns = ['Name', 'Tag Score', 'Full Score'])\n",
        "  sparkDF=spark.createDataFrame(df) \n",
        "  sparkDF.orderBy(['Tag Score', 'Full Score'], ascending = [False, True]).show()\n",
        "    \n",
        "  \n",
        "assignExpert(\"java\")\n"
      ],
      "metadata": {
        "id": "dNI-ahUA8Lb6",
        "colab": {
          "base_uri": "https://localhost:8080/"
        },
        "outputId": "92def424-699e-408c-a803-b0ff3063dd03"
      },
      "execution_count": 82,
      "outputs": [
        {
          "output_type": "stream",
          "name": "stdout",
          "text": [
            "+------+---------+----------+\n",
            "|  Name|Tag Score|Full Score|\n",
            "+------+---------+----------+\n",
            "|Simone|      1.0|       1.0|\n",
            "|   Bob|      1.0|       1.5|\n",
            "| Casey|      0.5|       1.5|\n",
            "|Dmitri|      0.5|      1.75|\n",
            "+------+---------+----------+\n",
            "\n"
          ]
        }
      ]
    },
    {
      "cell_type": "code",
      "source": [
        ""
      ],
      "metadata": {
        "id": "80jheIZdq3G9"
      },
      "execution_count": null,
      "outputs": []
    }
  ]
}